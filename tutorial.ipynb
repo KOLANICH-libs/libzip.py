{
	"cells": [{
			"cell_type": "markdown",
			"id": "first-folder",
			"metadata": {},
			"source": [
				"# `libzip` python bindings tutorial"
			]
		},
		{
			"cell_type": "markdown",
			"id": "former-reform",
			"metadata": {},
			"source": [
				"First let's choose a file we will test on."
			]
		},
		{
			"cell_type": "code",
			"execution_count": 1,
			"id": "failing-junior",
			"metadata": {},
			"outputs": [{
				"data": {
					"text/plain": [
						"PosixPath('dist/libzip-0.1.dev1+g9f16643-py3-none-any.whl')"
					]
				},
				"execution_count": 1,
				"metadata": {},
				"output_type": "execute_result"
			}],
			"source": [
				"from pathlib import Path, PurePath\n",
				"testFile = next(iter(Path(\"./dist/\").glob(\"*.whl\")))\n",
				"testFile"
			]
		},
		{
			"cell_type": "markdown",
			"id": "fluid-blair",
			"metadata": {},
			"source": [
				"You need to import `libzip` in order to use it. We don't put everything into the root, so import from the submodules. In order to open an archive you need `libzip.Archive.Archive` and `libzip.enums.OpenFlags`."
			]
		},
		{
			"cell_type": "code",
			"execution_count": 2,
			"id": "involved-partnership",
			"metadata": {},
			"outputs": [],
			"source": [
				"import libzip\n",
				"from libzip.Archive import Archive\n",
				"from libzip.enums import OpenFlags, CompressionMethod, EncryptionMethod"
			]
		},
		{
			"cell_type": "markdown",
			"id": "universal-period",
			"metadata": {},
			"source": [
				"Since we are dealing with C resources that must be opened and closed, almost everything is a context manager.\n",
				"\n",
				"In order to open an archive construct `Archive` class with the needed arguments.\n",
				"In order to spread our stuff among different cells we'll `__enter__` the object manually."
			]
		},
		{
			"cell_type": "code",
			"execution_count": 3,
			"id": "mobile-sleep",
			"metadata": {},
			"outputs": [{
				"data": {
					"text/plain": [
						"<libzip.Archive.Archive at 0x7f50e86aba40>"
					]
				},
				"execution_count": 3,
				"metadata": {},
				"output_type": "execute_result"
			}],
			"source": [
				"a = Archive(testFile, OpenFlags.read_write | OpenFlags.check).__enter__()\n",
				"a"
			]
		},
		{
			"cell_type": "markdown",
			"id": "prescribed-juice",
			"metadata": {},
			"source": [
				"Let's see the which files the archive contains. The archive is an iterator, so let's pass it to a constructor for a collection. Since there are pretty a lot of them, let's limit the shown by some small amount."
			]
		},
		{
			"cell_type": "code",
			"execution_count": 4,
			"id": "assured-dispatch",
			"metadata": {},
			"outputs": [{
				"data": {
					"text/plain": [
						"[ExistingFile(<libzip.Archive.Archive object at 0x7f50e86aba40>, 0, PurePosixPath('libzip/Error.py'), <ZipFlags.enc_guess: 0>, None),\n",
						" ExistingFile(<libzip.Archive.Archive object at 0x7f50e86aba40>, 1, PurePosixPath('libzip/Stat.py'), <ZipFlags.enc_guess: 0>, None),\n",
						" ExistingFile(<libzip.Archive.Archive object at 0x7f50e86aba40>, 2, PurePosixPath('libzip/__init__.py'), <ZipFlags.enc_guess: 0>, None)]"
					]
				},
				"execution_count": 4,
				"metadata": {},
				"output_type": "execute_result"
			}],
			"source": [
				"fs = list(a)\n",
				"fs[:3]"
			]
		},
		{
			"cell_type": "markdown",
			"id": "labeled-cartoon",
			"metadata": {},
			"source": [
				"We can get a file by its index ..."
			]
		},
		{
			"cell_type": "code",
			"execution_count": 5,
			"id": "distinguished-custody",
			"metadata": {},
			"outputs": [{
				"data": {
					"text/plain": [
						"ExistingFile(<libzip.Archive.Archive object at 0x7f50e86aba40>, 1, PurePosixPath('libzip/Stat.py'), <ZipFlags.enc_guess: 0>, None)"
					]
				},
				"execution_count": 5,
				"metadata": {},
				"output_type": "execute_result"
			}],
			"source": [
				"a[1]"
			]
		},
		{
			"cell_type": "markdown",
			"id": "identical-building",
			"metadata": {},
			"source": [
				"... or by name:"
			]
		},
		{
			"cell_type": "code",
			"execution_count": 6,
			"id": "exposed-parent",
			"metadata": {},
			"outputs": [{
				"data": {
					"text/plain": [
						"ExistingFile(<libzip.Archive.Archive object at 0x7f50e86aba40>, 1, PurePosixPath('libzip/Stat.py'), <ZipFlags.enc_guess: 0>, None)"
					]
				},
				"execution_count": 6,
				"metadata": {},
				"output_type": "execute_result"
			}],
			"source": [
				"a[PurePath('libzip/Stat.py')]"
			]
		},
		{
			"cell_type": "markdown",
			"id": "preceding-marketplace",
			"metadata": {},
			"source": [
				"If we ask for a nonexistent file, we get an error:"
			]
		},
		{
			"cell_type": "code",
			"execution_count": 7,
			"id": "noble-outdoors",
			"metadata": {},
			"outputs": [{
				"name": "stdout",
				"output_type": "stream",
				"text": [
					"(\"File with this index doesn't exist in the archive\", 100500)\n",
					"('File not found in the archive', 'blah')\n"
				]
			}],
			"source": [
				"try:\n",
				"    a[100500]\n",
				"except KeyError as ex:\n",
				"    print(ex)\n",
				"\n",
				"try:\n",
				"    a[\"blah\"]\n",
				"except KeyError as ex:\n",
				"    print(ex)"
			]
		},
		{
			"cell_type": "markdown",
			"id": "accepted-christopher",
			"metadata": {},
			"source": [
				"Let's examine the first file"
			]
		},
		{
			"cell_type": "code",
			"execution_count": 8,
			"id": "leading-database",
			"metadata": {},
			"outputs": [{
					"data": {
						"text/plain": [
							"Stat<name=b'libzip/Error.py', index=0, originalSize=4179, compressedSize=1180, modificationTime=SubscriptableDateTime(2022, 6, 20, 18, 34, 52), crc=2528813163, compressionMethod=<CompressionMethod.deflate: 8>, encryptionMethod=<EncryptionMethod.none: 0>>"
						]
					},
					"metadata": {},
					"output_type": "display_data"
				},
				{
					"data": {
						"text/plain": [
							"<CompressionMethod.deflate: 8>"
						]
					},
					"metadata": {},
					"output_type": "display_data"
				},
				{
					"data": {
						"text/plain": [
							"<EncryptionMethod.none: 0>"
						]
					},
					"metadata": {},
					"output_type": "display_data"
				}
			],
			"source": [
				"f = fs[0]\n",
				"display(f.stat, f.compressionMethod, f.encryptionMethod)"
			]
		},
		{
			"cell_type": "code",
			"execution_count": 9,
			"id": "piano-device",
			"metadata": {},
			"outputs": [{
					"data": {
						"text/plain": [
							"SubscriptableDateTime(2022, 6, 20, 18, 34, 52)"
						]
					},
					"metadata": {},
					"output_type": "display_data"
				},
				{
					"data": {
						"text/plain": [
							"(libzip.Stat.SubscriptableDateTime, datetime.datetime, datetime.date, object)"
						]
					},
					"metadata": {},
					"output_type": "display_data"
				}
			],
			"source": [
				"display(f.modTime, f.modTime.__class__.__mro__)"
			]
		},
		{
			"cell_type": "markdown",
			"id": "wooden-preference",
			"metadata": {},
			"source": [
				"By setting some properties we can edit the archive. Let's change the date."
			]
		},
		{
			"cell_type": "code",
			"execution_count": 10,
			"id": "sealed-hampshire",
			"metadata": {},
			"outputs": [{
				"data": {
					"text/plain": [
						"b'blah blah blah'"
					]
				},
				"metadata": {},
				"output_type": "display_data"
			}],
			"source": [
				"from datetime import datetime\n",
				"f.modTime = datetime(1970, 1, 1, 0, 0, 0)\n",
				"f.comment = \"blah blah blah\"\n",
				"display(f.comment)"
			]
		},
		{
			"cell_type": "markdown",
			"id": "fluid-silver",
			"metadata": {},
			"source": [
				"Let's recompress. When just setting a property, maximum compression is used."
			]
		},
		{
			"cell_type": "code",
			"execution_count": 11,
			"id": "following-universe",
			"metadata": {},
			"outputs": [],
			"source": [
				"f.compressionMethod = CompressionMethod.bzip2"
			]
		},
		{
			"cell_type": "markdown",
			"id": "discrete-knight",
			"metadata": {},
			"source": [
				"To use another preset, use a method"
			]
		},
		{
			"cell_type": "code",
			"execution_count": 12,
			"id": "colored-prisoner",
			"metadata": {},
			"outputs": [],
			"source": [
				"f.setCompression(CompressionMethod.bzip2, 1)"
			]
		},
		{
			"cell_type": "markdown",
			"id": "casual-repeat",
			"metadata": {},
			"source": [
				"For encryption you must specify the password, so we cannot encrypt by using just a prop."
			]
		},
		{
			"cell_type": "code",
			"execution_count": 13,
			"id": "challenging-signal",
			"metadata": {},
			"outputs": [{
				"data": {
					"text/plain": [
						"<EncryptionMethod.aes_128: 257>"
					]
				},
				"execution_count": 13,
				"metadata": {},
				"output_type": "execute_result"
			}],
			"source": [
				"f.setEncryption(EncryptionMethod.aes_128, \"correct horse battery staple\")\n",
				"f.encryptionMethod"
			]
		},
		{
			"cell_type": "markdown",
			"id": "bound-priest",
			"metadata": {},
			"source": [
				"To add or replace a file you need to create a new one. It is created from `Source`."
			]
		},
		{
			"cell_type": "code",
			"execution_count": 14,
			"id": "wrapped-bangladesh",
			"metadata": {},
			"outputs": [],
			"source": [
				"from libzip.Source import Source\n",
				"s = Source.make(b\"our new bullshit file\")\n",
				"f.replace(s)"
			]
		},
		{
			"cell_type": "markdown",
			"id": "declared-coffee",
			"metadata": {},
			"source": [
				"To read a file enter it and use `read` method. But we cannot, we have replaced it!"
			]
		},
		{
			"cell_type": "code",
			"execution_count": 15,
			"id": "defensive-challenge",
			"metadata": {},
			"outputs": [{
				"name": "stdout",
				"output_type": "stream",
				"text": [
					"Doing this op to a dirty file will result in a crash\n"
				]
			}],
			"source": [
				"try:\n",
				"    ff = f.__enter__()\n",
				"except RuntimeError as ex:\n",
				"    print(ex)"
			]
		},
		{
			"cell_type": "markdown",
			"id": "mineral-birth",
			"metadata": {},
			"source": [
				"OK, let's reset it back."
			]
		},
		{
			"cell_type": "code",
			"execution_count": 16,
			"id": "ruled-group",
			"metadata": {},
			"outputs": [],
			"source": [
				"f.dirty = False"
			]
		},
		{
			"cell_type": "code",
			"execution_count": 17,
			"id": "mathematical-morgan",
			"metadata": {},
			"outputs": [{
				"data": {
					"text/plain": [
						"bytearray(b'import typing\\n')"
					]
				},
				"metadata": {},
				"output_type": "display_data"
			}],
			"source": [
				"with f as ff:\n",
				"    res = bytearray(f.stat.originalSize)\n",
				"    ff.read(res)\n",
				"    display(res[:14])"
			]
		},
		{
			"cell_type": "code",
			"execution_count": 18,
			"id": "liberal-shape",
			"metadata": {},
			"outputs": [],
			"source": [
				"a.__exit__(None, None, None)"
			]
		}
	],
	"metadata": {
		"kernelspec": {
			"display_name": "Python 3",
			"language": "python",
			"name": "python3"
		},
		"language_info": {
			"codemirror_mode": {
				"name": "ipython",
				"version": 3
			},
			"file_extension": ".py",
			"mimetype": "text/x-python",
			"name": "python",
			"nbconvert_exporter": "python",
			"pygments_lexer": "ipython3",
			"version": "3.9.7"
		}
	},
	"nbformat": 4,
	"nbformat_minor": 5
}
